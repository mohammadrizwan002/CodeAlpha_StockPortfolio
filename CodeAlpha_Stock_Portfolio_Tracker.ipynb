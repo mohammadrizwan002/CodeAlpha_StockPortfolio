{
  "nbformat": 4,
  "nbformat_minor": 0,
  "metadata": {
    "colab": {
      "provenance": []
    },
    "kernelspec": {
      "name": "python3",
      "display_name": "Python 3"
    },
    "language_info": {
      "name": "python"
    }
  },
  "cells": [
    {
      "cell_type": "code",
      "execution_count": 2,
      "metadata": {
        "id": "mbcHBDKAQXbn"
      },
      "outputs": [],
      "source": [
        "# CodeAlpha Internship — Stock Portfolio Tracker 📈\n",
        "## Submitted by: Mohammad Rizwan"
      ]
    },
    {
      "cell_type": "code",
      "source": [
        "# Fixed stock prices (hardcoded as per task instruction)\n",
        "stock_prices = {\n",
        "    \"AAPL\": 180,\n",
        "    \"TSLA\": 250,\n",
        "    \"GOOGL\": 140,\n",
        "    \"AMZN\": 120,\n",
        "    \"INFY\": 1500\n",
        "}\n",
        "\n",
        "portfolio = {}\n",
        "\n",
        "print(\"📊 Welcome to the Stock Portfolio Tracker!\")\n",
        "print(\"Available stocks and prices:\")\n",
        "for stock, price in stock_prices.items():\n",
        "    print(f\"{stock}: ₹{price} per share\")\n",
        "\n",
        "print(\"\\nEnter the stocks you want to buy. Type 'done' to finish.\\n\")\n",
        "\n",
        "while True:\n",
        "    stock_name = input(\"Enter stock symbol (e.g., AAPL): \").upper()\n",
        "    if stock_name == \"DONE\":\n",
        "        break\n",
        "    if stock_name not in stock_prices:\n",
        "        print(\"❌ Stock not found. Try again.\")\n",
        "        continue\n",
        "    quantity = input(f\"Enter quantity of {stock_name}: \")\n",
        "    if not quantity.isdigit():\n",
        "        print(\"❌ Invalid quantity.\")\n",
        "        continue\n",
        "    portfolio[stock_name] = portfolio.get(stock_name, 0) + int(quantity)\n",
        "\n",
        "# Calculate total investment\n",
        "total_investment = 0\n",
        "print(\"\\n📈 Portfolio Summary:\")\n",
        "for stock, qty in portfolio.items():\n",
        "    price = stock_prices[stock]\n",
        "    investment = qty * price\n",
        "    total_investment += investment\n",
        "    print(f\"{stock}: {qty} shares × ₹{price} = ₹{investment}\")\n",
        "\n",
        "print(f\"\\n💰 Total Investment Value: ₹{total_investment}\")\n",
        "\n",
        "# Optional: Save to file\n",
        "save_option = input(\"\\nDo you want to save this summary to a file? (yes/no): \").lower()\n",
        "if save_option == \"yes\":\n",
        "    with open(\"portfolio_summary.txt\", \"w\") as file:\n",
        "        file.write(\"Stock Portfolio Summary\\n\")\n",
        "        for stock, qty in portfolio.items():\n",
        "            price = stock_prices[stock]\n",
        "            investment = qty * price\n",
        "            file.write(f\"{stock}: {qty} shares × ₹{price} = ₹{investment}\\n\")\n",
        "        file.write(f\"\\nTotal Investment: ₹{total_investment}\")\n",
        "    print(\"✅ Summary saved to 'portfolio_summary.txt'\")\n"
      ],
      "metadata": {
        "colab": {
          "base_uri": "https://localhost:8080/"
        },
        "id": "QouU-JRtQn2v",
        "outputId": "1ca9b80d-c444-4aab-a3ed-a2b1ced0b65c"
      },
      "execution_count": 1,
      "outputs": [
        {
          "output_type": "stream",
          "name": "stdout",
          "text": [
            "📊 Welcome to the Stock Portfolio Tracker!\n",
            "Available stocks and prices:\n",
            "AAPL: ₹180 per share\n",
            "TSLA: ₹250 per share\n",
            "GOOGL: ₹140 per share\n",
            "AMZN: ₹120 per share\n",
            "INFY: ₹1500 per share\n",
            "\n",
            "Enter the stocks you want to buy. Type 'done' to finish.\n",
            "\n",
            "Enter stock symbol (e.g., AAPL): AAPL\n",
            "Enter quantity of AAPL: 1000\n",
            "Enter stock symbol (e.g., AAPL): TSLA\n",
            "Enter quantity of TSLA: 50\n",
            "Enter stock symbol (e.g., AAPL): DONE\n",
            "\n",
            "📈 Portfolio Summary:\n",
            "AAPL: 1000 shares × ₹180 = ₹180000\n",
            "TSLA: 50 shares × ₹250 = ₹12500\n",
            "\n",
            "💰 Total Investment Value: ₹192500\n",
            "\n",
            "Do you want to save this summary to a file? (yes/no): YES\n",
            "✅ Summary saved to 'portfolio_summary.txt'\n"
          ]
        }
      ]
    }
  ]
}